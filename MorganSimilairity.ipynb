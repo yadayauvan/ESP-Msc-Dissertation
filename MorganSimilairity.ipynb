{
 "cells": [
  {
   "cell_type": "markdown",
   "metadata": {},
   "source": [
    "CODE OVERVIEW:\n",
    "- Molecules are provided in the DUD folder \n",
    "- 10 probe molecules are selected from list of molecules for each target \n",
    "- Smile strings are converted to Morgan fingerprint \n",
    "- similarity calculated with respect to partial charges using Tanimoto calculation\n",
    "- ROC scores are calculated to test the performeance of the ML model \n",
    "\n",
    "INSTRUCTIONS BEFORE RUNNING CODE: \n",
    "- Unzip all files in the DUD folder "
   ]
  },
  {
   "cell_type": "code",
   "execution_count": 1,
   "metadata": {},
   "outputs": [],
   "source": [
    "from rdkit import Chem \n",
    "from rdkit import DataStructs\n",
    "from rdkit.Chem import AllChem\n",
    "import pandas as pd \n",
    "import matplotlib.pyplot as plt \n",
    "import numpy as np \n",
    "import scipy.stats as ss \n",
    "from scipy.stats import spearmanr \n",
    "from sklearn.metrics import roc_curve\n",
    "from sklearn.metrics import roc_auc_score\n",
    "import os "
   ]
  },
  {
   "cell_type": "code",
   "execution_count": 2,
   "metadata": {},
   "outputs": [],
   "source": [
    "# DEFINING FILE NAMES AFTER TARGETS \n",
    "targets=['ace','ache','cdk2','cox2','dhfr','egfr','er_agonist','fgfr1','fxa','gpb','gr','hivrt','inha','na','p38','parp','pdgfrb','sahh','src','vegfr2'] \n",
    "\n",
    "for t in targets:\n",
    "\n",
    "    # Opening FILES IN DUD \n",
    "    refSmiles_ac = pd.read_csv('/Users/yada/Documents/UCL/Dissertation/benchmarking_platform-master/compounds/DUD/cmp_list_DUD_' + str(t)+'_actives.dat', sep='\\t', usecols=['# Mol_Title', 'ID', 'SMILES']) \n",
    "    refSmiles_dc = pd.read_csv('/Users/yada/Documents/UCL/Dissertation/benchmarking_platform-master/compounds/DUD/cmp_list_DUD_' + str(t)+'_decoys.dat', sep='\\t', usecols=['# Mol_Title', 'ID', 'SMILES'])\n",
    "\n",
    "    # IDENTIFYING ACITVE AND DECOY\n",
    "    refSmiles_ac['Active_NotActive'] = 1\n",
    "    refSmiles_dc['Active_NotActive'] = 0\n",
    "    \n",
    "    # Combining the acitve and decoy files together \n",
    "    newlist = pd.concat([refSmiles_ac,refSmiles_dc], ignore_index=True)\n",
    "    \n",
    "    # APPLYING MORGAN ALGORITHM \n",
    "    refMols = []\n",
    "    for x in newlist['SMILES']:\n",
    "        m1 = Chem.MolFromSmiles (x)\n",
    "        refMols.append(AllChem.GetMorganFingerprint(m1,2))\n",
    "    \n",
    "    # PROBE MOLECULE \n",
    "    # Take the first 10 molecules as probe molecules \n",
    "    prbMol = refMols[:10]\n",
    "\n",
    "    # CREATING DIRECTORY\n",
    "    dir = '/Users/yada/Documents/UCL/Dissertation/Morgan notebooks/Results/'+str(t)\n",
    "    if not os.path.exists(dir):\n",
    "        os.mkdir(dir)    \n",
    "\n",
    "    roclist = []\n",
    "    count = 1 \n",
    "    \n",
    "    # TANIMOTO SIMILARITY\n",
    "    for i in prbMol:\n",
    "        simEsp = [DataStructs.TanimotoSimilarity(i,j) for j in refMols]\n",
    "        \n",
    "        data = {'Mol_Title':newlist['# Mol_Title'],'ID':newlist['ID'],'Smiles':newlist['SMILES'],'Active_NotActive':newlist['Active_NotActive'],'Morgan':simEsp}\n",
    "        newfile = pd.DataFrame(data)\n",
    "        newfile.to_csv(str(dir)+'/SimilarityMorgan' + str(count)+'.csv')\n",
    "        count = count + 1\n",
    "        \n",
    "        # ROC SCORE\n",
    "        auc = roc_auc_score(newfile['Active_NotActive'],newfile['Morgan']) \n",
    "        roclist.append(auc)\n",
    "\n",
    "    data = {'ROC Morgan':roclist}\n",
    "    newfileroc = pd.DataFrame(data)\n",
    "    newfileroc.to_csv(str(dir) + '/ROCscores.csv')\\\n"
   ]
  },
  {
   "cell_type": "code",
   "execution_count": null,
   "metadata": {},
   "outputs": [],
   "source": [
    "esplist = []\n",
    "final_file = pd.DataFrame()\n",
    "\n",
    "for t in targets: \n",
    "    files = pd.read_csv ('/Users/yada/Documents/UCL/Dissertation/Morgan notebooks/Results/'+str(t)+'/ROCscores.csv')\n",
    "    final_file = pd.concat([final_file, files])\n",
    "   \n",
    "espavr = np.mean(final_file['ROC Morgan'].to_list())\n",
    "stdesp = np.std(final_file['ROC Morgan'].to_list())\n",
    "\n",
    "data = {'Avr ROC':[espavr],'Std Esp':[stdesp],}\n",
    "newfile = pd.DataFrame(data)\n",
    "newfile.to_csv('/Users/yada/Documents/UCL/Dissertation/Morgan notebooks/Results/AvrStdResults.csv')"
   ]
  },
  {
   "cell_type": "code",
   "execution_count": 4,
   "metadata": {},
   "outputs": [
    {
     "data": {
      "image/png": "[encoded data removed]",
      "text/plain": [
       "<Figure size 432x288 with 1 Axes>"
      ]
     },
     "metadata": {
      "needs_background": "light"
     },
     "output_type": "display_data"
    }
   ],
   "source": [
    "# ROC curve of the most recent probe molecule calculation \n",
    "\n",
    "fpr, tpr, _ = roc_curve(newlist['Active_NotActive'],simEsp)\n",
    "plt.plot(fpr,tpr)\n",
    "plt.ylabel('True Positive Rate')\n",
    "plt.xlabel('False Positive Rate')\n",
    "plt.show()  "
   ]
  }
 ],
 "metadata": {
  "interpreter": {
   "hash": "0e806980a96ec610e5e424ce94ba6b238624e71736b977c07b8ca8ae569c142e"
  },
  "kernelspec": {
   "display_name": "Python 3.7.12 ('espsim')",
   "language": "python",
   "name": "python3"
  },
  "language_info": {
   "codemirror_mode": {
    "name": "ipython",
    "version": 3
   },
   "file_extension": ".py",
   "mimetype": "text/x-python",
   "name": "python",
   "nbconvert_exporter": "python",
   "pygments_lexer": "ipython3",
   "version": "3.7.12"
  },
  "orig_nbformat": 4
 },
 "nbformat": 4,
 "nbformat_minor": 2
}
